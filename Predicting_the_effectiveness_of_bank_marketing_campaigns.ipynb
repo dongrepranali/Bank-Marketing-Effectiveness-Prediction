{
  "nbformat": 4,
  "nbformat_minor": 0,
  "metadata": {
    "colab": {
      "name": "Predicting the effectiveness of bank marketing campaigns",
      "provenance": [],
      "collapsed_sections": [],
      "authorship_tag": "ABX9TyORHfVh5kil0ETcq7JPATgL",
      "include_colab_link": true
    },
    "kernelspec": {
      "name": "python3",
      "display_name": "Python 3"
    },
    "language_info": {
      "name": "python"
    }
  },
  "cells": [
    {
      "cell_type": "markdown",
      "metadata": {
        "id": "view-in-github",
        "colab_type": "text"
      },
      "source": [
        "<a href=\"https://colab.research.google.com/github/dongrepranali/Predicting-the-effectiveness-of-bank-marketing-campaigns/blob/main/Predicting_the_effectiveness_of_bank_marketing_campaigns.ipynb\" target=\"_parent\"><img src=\"https://colab.research.google.com/assets/colab-badge.svg\" alt=\"Open In Colab\"/></a>"
      ]
    },
    {
      "cell_type": "markdown",
      "source": [
        "**Project Title** : **Predicting the effectiveness of bank marketing campaigns**"
      ],
      "metadata": {
        "id": "MGh6U44tgsYI"
      }
    },
    {
      "cell_type": "markdown",
      "source": [
        "**Problem Description**\n",
        "The data is related with direct marketing campaigns (phone calls) of a Portuguese banking institution. The marketing campaigns were based on phone calls. Often, more than one contact to the same client was required, in order to access if the product (bank term deposit) would be ('yes') or not ('no') subscribed. The classification goal is to predict if the client will subscribe a term deposit (variable y)."
      ],
      "metadata": {
        "id": "mP9Q7738g2yh"
      }
    }
  ]
}